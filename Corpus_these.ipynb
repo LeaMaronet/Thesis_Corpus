{
 "cells": [
  {
   "cell_type": "markdown",
   "id": "d97e4b65",
   "metadata": {},
   "source": [
    "# Corpus thèse\n",
    "Léa Maronet"
   ]
  },
  {
   "cell_type": "code",
   "execution_count": 1,
   "id": "168801e0",
   "metadata": {},
   "outputs": [],
   "source": [
    "import pandas as pd\n",
    "import matplotlib as plt\n",
    "import matplotlib.pyplot as plt\n",
    "import numpy as np\n",
    "import seaborn as sns"
   ]
  },
  {
   "cell_type": "code",
   "execution_count": 2,
   "id": "70563a2e",
   "metadata": {},
   "outputs": [
    {
     "data": {
      "text/html": [
       "<div>\n",
       "<style scoped>\n",
       "    .dataframe tbody tr th:only-of-type {\n",
       "        vertical-align: middle;\n",
       "    }\n",
       "\n",
       "    .dataframe tbody tr th {\n",
       "        vertical-align: top;\n",
       "    }\n",
       "\n",
       "    .dataframe thead th {\n",
       "        text-align: right;\n",
       "    }\n",
       "</style>\n",
       "<table border=\"1\" class=\"dataframe\">\n",
       "  <thead>\n",
       "    <tr style=\"text-align: right;\">\n",
       "      <th></th>\n",
       "      <th>Titre</th>\n",
       "      <th>Etat</th>\n",
       "      <th>Site</th>\n",
       "      <th>Sujet</th>\n",
       "      <th>Motifs</th>\n",
       "      <th>Date</th>\n",
       "      <th>Support</th>\n",
       "      <th>Lieu de conservation</th>\n",
       "      <th>Auteur</th>\n",
       "      <th>Citation bibliographique</th>\n",
       "      <th>Droit d'auteur</th>\n",
       "    </tr>\n",
       "  </thead>\n",
       "  <tbody>\n",
       "    <tr>\n",
       "      <th>0</th>\n",
       "      <td>ASOK_AMA001</td>\n",
       "      <td>Andhra Pradesh</td>\n",
       "      <td>Amarāvatī</td>\n",
       "      <td>Balustrade avec médaillons lotiformes</td>\n",
       "      <td>lotus</td>\n",
       "      <td>1 A.D. ; 2 A.D. ; 3 A.D.</td>\n",
       "      <td>Stūpa ; balustrade ; pilier</td>\n",
       "      <td>British Museum</td>\n",
       "      <td>Maronet Léa</td>\n",
       "      <td>NaN</td>\n",
       "      <td>NaN</td>\n",
       "    </tr>\n",
       "    <tr>\n",
       "      <th>1</th>\n",
       "      <td>ASOK_AMA002</td>\n",
       "      <td>Andhra Pradesh</td>\n",
       "      <td>Amarāvatī</td>\n",
       "      <td>Pilier de balustrade avec médaillons lotiforme...</td>\n",
       "      <td>lotus</td>\n",
       "      <td>1 A.D. ; 2 A.D. ; 3 A.D.</td>\n",
       "      <td>Stūpa ; balustrade ; pilier</td>\n",
       "      <td>British Museum</td>\n",
       "      <td>Maronet Léa</td>\n",
       "      <td>NaN</td>\n",
       "      <td>NaN</td>\n",
       "    </tr>\n",
       "    <tr>\n",
       "      <th>2</th>\n",
       "      <td>ASOK_AMA003</td>\n",
       "      <td>Andhra Pradesh</td>\n",
       "      <td>Amarāvatī</td>\n",
       "      <td>Pilier de balustrade avec médaillons lotiforme...</td>\n",
       "      <td>lotus ; éléphant</td>\n",
       "      <td>1 A.D. ; 2 A.D. ; 3 A.D.</td>\n",
       "      <td>Stūpa ; balustrade ; pilier</td>\n",
       "      <td>British Museum</td>\n",
       "      <td>Maronet Léa</td>\n",
       "      <td>NaN</td>\n",
       "      <td>NaN</td>\n",
       "    </tr>\n",
       "    <tr>\n",
       "      <th>3</th>\n",
       "      <td>ASOK_AMA004</td>\n",
       "      <td>Andhra Pradesh</td>\n",
       "      <td>Amarāvatī</td>\n",
       "      <td>Pilier de balustrade avec médaillons lotiforme...</td>\n",
       "      <td>lotus</td>\n",
       "      <td>1 A.D. ; 2 A.D. ; 3 A.D.</td>\n",
       "      <td>Stūpa ; balustrade ; pilier</td>\n",
       "      <td>British Museum</td>\n",
       "      <td>Maronet Léa</td>\n",
       "      <td>NaN</td>\n",
       "      <td>NaN</td>\n",
       "    </tr>\n",
       "    <tr>\n",
       "      <th>4</th>\n",
       "      <td>ASOK_AMA005</td>\n",
       "      <td>Andhra Pradesh</td>\n",
       "      <td>Amarāvatī</td>\n",
       "      <td>Pilier de balustrade avec médaillons lotiforme...</td>\n",
       "      <td>lotus</td>\n",
       "      <td>1 A.D. ; 2 A.D. ; 3 A.D.</td>\n",
       "      <td>Stūpa ; balustrade ; pilier</td>\n",
       "      <td>British Museum</td>\n",
       "      <td>Maronet Léa</td>\n",
       "      <td>NaN</td>\n",
       "      <td>NaN</td>\n",
       "    </tr>\n",
       "    <tr>\n",
       "      <th>...</th>\n",
       "      <td>...</td>\n",
       "      <td>...</td>\n",
       "      <td>...</td>\n",
       "      <td>...</td>\n",
       "      <td>...</td>\n",
       "      <td>...</td>\n",
       "      <td>...</td>\n",
       "      <td>...</td>\n",
       "      <td>...</td>\n",
       "      <td>...</td>\n",
       "      <td>...</td>\n",
       "    </tr>\n",
       "    <tr>\n",
       "      <th>122</th>\n",
       "      <td>ASOK_BODA054</td>\n",
       "      <td>Bihar</td>\n",
       "      <td>Bodhgayā</td>\n",
       "      <td>Médaillon lotiforme et éléphant ailé</td>\n",
       "      <td>lotus ; éléphant</td>\n",
       "      <td>3 B.C. ; 2 B.C. ; 1 B.C.</td>\n",
       "      <td>Stūpa ; balustrade ; pilier</td>\n",
       "      <td>Mahābodhi temple complex</td>\n",
       "      <td>Huntington Susan ; Hungtington John</td>\n",
       "      <td>DSAL</td>\n",
       "      <td>NaN</td>\n",
       "    </tr>\n",
       "    <tr>\n",
       "      <th>123</th>\n",
       "      <td>ASOK_BODA055</td>\n",
       "      <td>Bihar</td>\n",
       "      <td>Bodhgayā</td>\n",
       "      <td>Demi-médaillon lotiforme</td>\n",
       "      <td>lotus</td>\n",
       "      <td>3 B.C. ; 2 B.C. ; 1 B.C.</td>\n",
       "      <td>Stūpa ; balustrade ; pilier</td>\n",
       "      <td>Mahābodhi temple complex</td>\n",
       "      <td>Huntington Susan ; Hungtington John</td>\n",
       "      <td>DSAL</td>\n",
       "      <td>NaN</td>\n",
       "    </tr>\n",
       "    <tr>\n",
       "      <th>124</th>\n",
       "      <td>ASOK_BODA056</td>\n",
       "      <td>Bihar</td>\n",
       "      <td>Bodhgayā</td>\n",
       "      <td>Médaillon lotiforme</td>\n",
       "      <td>lotus</td>\n",
       "      <td>3 B.C. ; 2 B.C. ; 1 B.C.</td>\n",
       "      <td>Stūpa ; balustrade ; pilier</td>\n",
       "      <td>Mahābodhi temple complex</td>\n",
       "      <td>Huntington Susan ; Hungtington John</td>\n",
       "      <td>DSAL</td>\n",
       "      <td>NaN</td>\n",
       "    </tr>\n",
       "    <tr>\n",
       "      <th>125</th>\n",
       "      <td>ASOK_BODA057</td>\n",
       "      <td>Bihar</td>\n",
       "      <td>Bodhgayā</td>\n",
       "      <td>Demi-médaillon lotiforme</td>\n",
       "      <td>lotus</td>\n",
       "      <td>3 B.C. ; 2 B.C. ; 1 B.C.</td>\n",
       "      <td>Stūpa ; balustrade ; pilier</td>\n",
       "      <td>Mahābodhi temple complex</td>\n",
       "      <td>Huntington Susan ; Hungtington John</td>\n",
       "      <td>DSAL</td>\n",
       "      <td>NaN</td>\n",
       "    </tr>\n",
       "    <tr>\n",
       "      <th>126</th>\n",
       "      <td>ASOK_BODA058</td>\n",
       "      <td>Bihar</td>\n",
       "      <td>Bodhgayā</td>\n",
       "      <td>Médaillon lotiforme et portrait de donateur/do...</td>\n",
       "      <td>lotus</td>\n",
       "      <td>3 B.C. ; 2 B.C. ; 1 B.C.</td>\n",
       "      <td>Stūpa ; balustrade ; pilier</td>\n",
       "      <td>Mahābodhi temple complex</td>\n",
       "      <td>Huntington Susan ; Hungtington John</td>\n",
       "      <td>DSAL</td>\n",
       "      <td>NaN</td>\n",
       "    </tr>\n",
       "  </tbody>\n",
       "</table>\n",
       "<p>127 rows × 11 columns</p>\n",
       "</div>"
      ],
      "text/plain": [
       "            Titre            Etat       Site  \\\n",
       "0     ASOK_AMA001  Andhra Pradesh  Amarāvatī   \n",
       "1     ASOK_AMA002  Andhra Pradesh  Amarāvatī   \n",
       "2     ASOK_AMA003  Andhra Pradesh  Amarāvatī   \n",
       "3     ASOK_AMA004  Andhra Pradesh  Amarāvatī   \n",
       "4     ASOK_AMA005  Andhra Pradesh  Amarāvatī   \n",
       "..            ...             ...        ...   \n",
       "122  ASOK_BODA054           Bihar  Bodhgayā   \n",
       "123  ASOK_BODA055           Bihar  Bodhgayā   \n",
       "124  ASOK_BODA056           Bihar  Bodhgayā   \n",
       "125  ASOK_BODA057           Bihar  Bodhgayā   \n",
       "126  ASOK_BODA058           Bihar  Bodhgayā   \n",
       "\n",
       "                                                 Sujet            Motifs  \\\n",
       "0                Balustrade avec médaillons lotiformes             lotus   \n",
       "1    Pilier de balustrade avec médaillons lotiforme...             lotus   \n",
       "2    Pilier de balustrade avec médaillons lotiforme...  lotus ; éléphant   \n",
       "3    Pilier de balustrade avec médaillons lotiforme...             lotus   \n",
       "4    Pilier de balustrade avec médaillons lotiforme...             lotus   \n",
       "..                                                 ...               ...   \n",
       "122               Médaillon lotiforme et éléphant ailé  lotus ; éléphant   \n",
       "123                           Demi-médaillon lotiforme             lotus   \n",
       "124                                Médaillon lotiforme             lotus   \n",
       "125                           Demi-médaillon lotiforme             lotus   \n",
       "126  Médaillon lotiforme et portrait de donateur/do...             lotus   \n",
       "\n",
       "                         Date                      Support  \\\n",
       "0    1 A.D. ; 2 A.D. ; 3 A.D.  Stūpa ; balustrade ; pilier   \n",
       "1    1 A.D. ; 2 A.D. ; 3 A.D.  Stūpa ; balustrade ; pilier   \n",
       "2    1 A.D. ; 2 A.D. ; 3 A.D.  Stūpa ; balustrade ; pilier   \n",
       "3    1 A.D. ; 2 A.D. ; 3 A.D.  Stūpa ; balustrade ; pilier   \n",
       "4    1 A.D. ; 2 A.D. ; 3 A.D.  Stūpa ; balustrade ; pilier   \n",
       "..                        ...                          ...   \n",
       "122  3 B.C. ; 2 B.C. ; 1 B.C.  Stūpa ; balustrade ; pilier   \n",
       "123  3 B.C. ; 2 B.C. ; 1 B.C.  Stūpa ; balustrade ; pilier   \n",
       "124  3 B.C. ; 2 B.C. ; 1 B.C.  Stūpa ; balustrade ; pilier   \n",
       "125  3 B.C. ; 2 B.C. ; 1 B.C.  Stūpa ; balustrade ; pilier   \n",
       "126  3 B.C. ; 2 B.C. ; 1 B.C.  Stūpa ; balustrade ; pilier   \n",
       "\n",
       "         Lieu de conservation                               Auteur  \\\n",
       "0              British Museum                          Maronet Léa   \n",
       "1              British Museum                          Maronet Léa   \n",
       "2              British Museum                          Maronet Léa   \n",
       "3              British Museum                          Maronet Léa   \n",
       "4              British Museum                          Maronet Léa   \n",
       "..                        ...                                  ...   \n",
       "122  Mahābodhi temple complex  Huntington Susan ; Hungtington John   \n",
       "123  Mahābodhi temple complex  Huntington Susan ; Hungtington John   \n",
       "124  Mahābodhi temple complex  Huntington Susan ; Hungtington John   \n",
       "125  Mahābodhi temple complex  Huntington Susan ; Hungtington John   \n",
       "126  Mahābodhi temple complex  Huntington Susan ; Hungtington John   \n",
       "\n",
       "    Citation bibliographique Droit d'auteur  \n",
       "0                        NaN            NaN  \n",
       "1                        NaN            NaN  \n",
       "2                        NaN            NaN  \n",
       "3                        NaN            NaN  \n",
       "4                        NaN            NaN  \n",
       "..                       ...            ...  \n",
       "122                     DSAL            NaN  \n",
       "123                     DSAL            NaN  \n",
       "124                     DSAL            NaN  \n",
       "125                     DSAL            NaN  \n",
       "126                     DSAL            NaN  \n",
       "\n",
       "[127 rows x 11 columns]"
      ]
     },
     "execution_count": 2,
     "metadata": {},
     "output_type": "execute_result"
    }
   ],
   "source": [
    "corpus = pd.read_csv(\"Corpus.csv\")\n",
    "corpus"
   ]
  },
  {
   "cell_type": "markdown",
   "id": "47f1867a",
   "metadata": {},
   "source": [
    "## Répartition par sites"
   ]
  },
  {
   "cell_type": "code",
   "execution_count": 3,
   "id": "bac317c1",
   "metadata": {},
   "outputs": [
    {
     "data": {
      "image/png": "[encoded data removed]",
      "text/plain": [
       "<Figure size 640x480 with 1 Axes>"
      ]
     },
     "metadata": {},
     "output_type": "display_data"
    }
   ],
   "source": [
    "sns.countplot(corpus, x=\"Site\")\n",
    "plt.ylabel(\"Nombre d'images\")\n",
    "plt.xlabel(\"Sites\")\n",
    "plt.show()"
   ]
  },
  {
   "cell_type": "markdown",
   "id": "97103301",
   "metadata": {},
   "source": [
    "## Répartition par dates"
   ]
  },
  {
   "cell_type": "markdown",
   "id": "034d7e6d",
   "metadata": {},
   "source": [
    "### Par grandes périodes"
   ]
  },
  {
   "cell_type": "code",
   "execution_count": 4,
   "id": "1d68fcdd",
   "metadata": {},
   "outputs": [
    {
     "data": {
      "image/png": "[encoded data removed]",
      "text/plain": [
       "<Figure size 640x480 with 1 Axes>"
      ]
     },
     "metadata": {},
     "output_type": "display_data"
    }
   ],
   "source": [
    "dates = corpus.groupby('Date')['Titre'].count()\n",
    "dates = dates.reset_index()\n",
    "sns.barplot(y=dates['Titre'], x=dates['Date'], palette=\"flare\")\n",
    "plt.ylabel(\"Nombre d'images\")\n",
    "plt.xlabel(\"Siècles\")\n",
    "plt.xticks(rotation=40)\n",
    "plt.title(\"Répartition du corpus par périodes\", fontweight=\"bold\")\n",
    "plt.show()"
   ]
  },
  {
   "cell_type": "code",
   "execution_count": 5,
   "id": "5cc89ad0",
   "metadata": {},
   "outputs": [
    {
     "data": {
      "text/html": [
       "<div>\n",
       "<style scoped>\n",
       "    .dataframe tbody tr th:only-of-type {\n",
       "        vertical-align: middle;\n",
       "    }\n",
       "\n",
       "    .dataframe tbody tr th {\n",
       "        vertical-align: top;\n",
       "    }\n",
       "\n",
       "    .dataframe thead th {\n",
       "        text-align: right;\n",
       "    }\n",
       "</style>\n",
       "<table border=\"1\" class=\"dataframe\">\n",
       "  <thead>\n",
       "    <tr style=\"text-align: right;\">\n",
       "      <th></th>\n",
       "      <th>Date</th>\n",
       "      <th>Occurences</th>\n",
       "    </tr>\n",
       "  </thead>\n",
       "  <tbody>\n",
       "    <tr>\n",
       "      <th>0</th>\n",
       "      <td>1 A.D.</td>\n",
       "      <td>2</td>\n",
       "    </tr>\n",
       "    <tr>\n",
       "      <th>1</th>\n",
       "      <td>1 A.D. ; 2 A.D. ; 3 A.D.</td>\n",
       "      <td>38</td>\n",
       "    </tr>\n",
       "    <tr>\n",
       "      <th>2</th>\n",
       "      <td>2 A.D.</td>\n",
       "      <td>27</td>\n",
       "    </tr>\n",
       "    <tr>\n",
       "      <th>3</th>\n",
       "      <td>2 A.D. ; 3 A.D.</td>\n",
       "      <td>1</td>\n",
       "    </tr>\n",
       "    <tr>\n",
       "      <th>4</th>\n",
       "      <td>3 A.D.</td>\n",
       "      <td>1</td>\n",
       "    </tr>\n",
       "    <tr>\n",
       "      <th>5</th>\n",
       "      <td>3 B.C. ; 2 B.C. ; 1 B.C.</td>\n",
       "      <td>58</td>\n",
       "    </tr>\n",
       "  </tbody>\n",
       "</table>\n",
       "</div>"
      ],
      "text/plain": [
       "                       Date  Occurences\n",
       "0                    1 A.D.           2\n",
       "1  1 A.D. ; 2 A.D. ; 3 A.D.          38\n",
       "2                    2 A.D.          27\n",
       "3           2 A.D. ; 3 A.D.           1\n",
       "4                    3 A.D.           1\n",
       "5  3 B.C. ; 2 B.C. ; 1 B.C.          58"
      ]
     },
     "execution_count": 5,
     "metadata": {},
     "output_type": "execute_result"
    }
   ],
   "source": [
    "dates = dates.rename(columns={'Titre' : 'Occurences'})\n",
    "dates"
   ]
  },
  {
   "cell_type": "markdown",
   "id": "79071e84",
   "metadata": {},
   "source": [
    "### Par siècles"
   ]
  },
  {
   "cell_type": "code",
   "execution_count": 6,
   "id": "f846a0c5",
   "metadata": {},
   "outputs": [
    {
     "data": {
      "text/html": [
       "<div>\n",
       "<style scoped>\n",
       "    .dataframe tbody tr th:only-of-type {\n",
       "        vertical-align: middle;\n",
       "    }\n",
       "\n",
       "    .dataframe tbody tr th {\n",
       "        vertical-align: top;\n",
       "    }\n",
       "\n",
       "    .dataframe thead th {\n",
       "        text-align: right;\n",
       "    }\n",
       "</style>\n",
       "<table border=\"1\" class=\"dataframe\">\n",
       "  <thead>\n",
       "    <tr style=\"text-align: right;\">\n",
       "      <th></th>\n",
       "      <th>Date</th>\n",
       "      <th>Occurences</th>\n",
       "    </tr>\n",
       "  </thead>\n",
       "  <tbody>\n",
       "    <tr>\n",
       "      <th>0</th>\n",
       "      <td>2A.D.</td>\n",
       "      <td>66</td>\n",
       "    </tr>\n",
       "    <tr>\n",
       "      <th>1</th>\n",
       "      <td>3B.C.</td>\n",
       "      <td>58</td>\n",
       "    </tr>\n",
       "    <tr>\n",
       "      <th>2</th>\n",
       "      <td>2B.C.</td>\n",
       "      <td>58</td>\n",
       "    </tr>\n",
       "    <tr>\n",
       "      <th>3</th>\n",
       "      <td>1B.C.</td>\n",
       "      <td>58</td>\n",
       "    </tr>\n",
       "    <tr>\n",
       "      <th>4</th>\n",
       "      <td>1A.D.</td>\n",
       "      <td>40</td>\n",
       "    </tr>\n",
       "    <tr>\n",
       "      <th>5</th>\n",
       "      <td>3A.D.</td>\n",
       "      <td>40</td>\n",
       "    </tr>\n",
       "  </tbody>\n",
       "</table>\n",
       "</div>"
      ],
      "text/plain": [
       "    Date  Occurences\n",
       "0  2A.D.          66\n",
       "1  3B.C.          58\n",
       "2  2B.C.          58\n",
       "3  1B.C.          58\n",
       "4  1A.D.          40\n",
       "5  3A.D.          40"
      ]
     },
     "execution_count": 6,
     "metadata": {},
     "output_type": "execute_result"
    }
   ],
   "source": [
    "#Calcul des occurences\n",
    "siecles = pd.DataFrame(corpus.Date.str.replace(\" \", \"\").str.split(\";\").explode().value_counts())\n",
    "siecles = siecles.reset_index()\n",
    "siecles = siecles.rename(columns={'count' : 'Occurences'})\n",
    "siecles"
   ]
  },
  {
   "cell_type": "code",
   "execution_count": 7,
   "id": "e935fc37",
   "metadata": {},
   "outputs": [
    {
     "data": {
      "text/html": [
       "<div>\n",
       "<style scoped>\n",
       "    .dataframe tbody tr th:only-of-type {\n",
       "        vertical-align: middle;\n",
       "    }\n",
       "\n",
       "    .dataframe tbody tr th {\n",
       "        vertical-align: top;\n",
       "    }\n",
       "\n",
       "    .dataframe thead th {\n",
       "        text-align: right;\n",
       "    }\n",
       "</style>\n",
       "<table border=\"1\" class=\"dataframe\">\n",
       "  <thead>\n",
       "    <tr style=\"text-align: right;\">\n",
       "      <th></th>\n",
       "      <th>Date</th>\n",
       "      <th>Occurences</th>\n",
       "    </tr>\n",
       "  </thead>\n",
       "  <tbody>\n",
       "    <tr>\n",
       "      <th>1</th>\n",
       "      <td>3B.C.</td>\n",
       "      <td>58</td>\n",
       "    </tr>\n",
       "    <tr>\n",
       "      <th>2</th>\n",
       "      <td>2B.C.</td>\n",
       "      <td>58</td>\n",
       "    </tr>\n",
       "    <tr>\n",
       "      <th>3</th>\n",
       "      <td>1B.C.</td>\n",
       "      <td>58</td>\n",
       "    </tr>\n",
       "    <tr>\n",
       "      <th>4</th>\n",
       "      <td>1A.D.</td>\n",
       "      <td>40</td>\n",
       "    </tr>\n",
       "    <tr>\n",
       "      <th>0</th>\n",
       "      <td>2A.D.</td>\n",
       "      <td>66</td>\n",
       "    </tr>\n",
       "    <tr>\n",
       "      <th>5</th>\n",
       "      <td>3A.D.</td>\n",
       "      <td>40</td>\n",
       "    </tr>\n",
       "  </tbody>\n",
       "</table>\n",
       "</div>"
      ],
      "text/plain": [
       "    Date  Occurences\n",
       "1  3B.C.          58\n",
       "2  2B.C.          58\n",
       "3  1B.C.          58\n",
       "4  1A.D.          40\n",
       "0  2A.D.          66\n",
       "5  3A.D.          40"
      ]
     },
     "execution_count": 7,
     "metadata": {},
     "output_type": "execute_result"
    }
   ],
   "source": [
    "#Tri des siècles par ordre chronologique\n",
    "conditions = []\n",
    "valeurs = []\n",
    "\n",
    "for i,j in enumerate(['3B.C.','2B.C.','1B.C.','1A.D.', '2A.D.', '3A.D.']):\n",
    "    conditions.append((siecles['Date'] == j))\n",
    "    valeurs.append(i)\n",
    "\n",
    "siecles['Tri'] = np.select(conditions, valeurs)\n",
    "siecles.sort_values(by='Tri',inplace = True)\n",
    "siecles.drop(columns=\"Tri\")"
   ]
  },
  {
   "cell_type": "code",
   "execution_count": 8,
   "id": "2c4209e2",
   "metadata": {},
   "outputs": [
    {
     "data": {
      "text/plain": [
       "Text(0.5, 1.0, 'Répartition du corpus par siècles')"
      ]
     },
     "execution_count": 8,
     "metadata": {},
     "output_type": "execute_result"
    },
    {
     "data": {
      "image/png": "[encoded data removed]",
      "text/plain": [
       "<Figure size 640x480 with 1 Axes>"
      ]
     },
     "metadata": {},
     "output_type": "display_data"
    }
   ],
   "source": [
    "#Création du graphique\n",
    "noms_siecles = [\"3e siècle B.C.\", \"2e siècle B.C.\", \"1er siècle B.C.\", \"1er siècle A.D.\", \"2e siècle A.D.\", \"3e siècle A.D.\"]\n",
    "sns.barplot(y=siecles['Occurences'], x=siecles['Date'], palette=\"flare\").set(xlabel=\"Siècles\", xticklabels=noms_siecles)\n",
    "plt.xticks(rotation=40)\n",
    "plt.title(\"Répartition du corpus par siècles\", fontweight=\"bold\")"
   ]
  },
  {
   "cell_type": "markdown",
   "id": "52bc76f9",
   "metadata": {},
   "source": [
    "## Occurence des motifs"
   ]
  },
  {
   "cell_type": "markdown",
   "id": "99d7eae4",
   "metadata": {},
   "source": [
    "### Dans l'ensemble du corpus"
   ]
  },
  {
   "cell_type": "code",
   "execution_count": 9,
   "id": "d7224ba9",
   "metadata": {},
   "outputs": [
    {
     "data": {
      "text/html": [
       "<div>\n",
       "<style scoped>\n",
       "    .dataframe tbody tr th:only-of-type {\n",
       "        vertical-align: middle;\n",
       "    }\n",
       "\n",
       "    .dataframe tbody tr th {\n",
       "        vertical-align: top;\n",
       "    }\n",
       "\n",
       "    .dataframe thead th {\n",
       "        text-align: right;\n",
       "    }\n",
       "</style>\n",
       "<table border=\"1\" class=\"dataframe\">\n",
       "  <thead>\n",
       "    <tr style=\"text-align: right;\">\n",
       "      <th></th>\n",
       "      <th>Motifs</th>\n",
       "      <th>Occurences</th>\n",
       "    </tr>\n",
       "  </thead>\n",
       "  <tbody>\n",
       "    <tr>\n",
       "      <th>0</th>\n",
       "      <td>lotus</td>\n",
       "      <td>125</td>\n",
       "    </tr>\n",
       "    <tr>\n",
       "      <th>1</th>\n",
       "      <td>lion</td>\n",
       "      <td>11</td>\n",
       "    </tr>\n",
       "    <tr>\n",
       "      <th>2</th>\n",
       "      <td>éléphant</td>\n",
       "      <td>8</td>\n",
       "    </tr>\n",
       "    <tr>\n",
       "      <th>3</th>\n",
       "      <td>oiseau</td>\n",
       "      <td>7</td>\n",
       "    </tr>\n",
       "    <tr>\n",
       "      <th>4</th>\n",
       "      <td>cheval</td>\n",
       "      <td>5</td>\n",
       "    </tr>\n",
       "    <tr>\n",
       "      <th>5</th>\n",
       "      <td>taureau</td>\n",
       "      <td>2</td>\n",
       "    </tr>\n",
       "  </tbody>\n",
       "</table>\n",
       "</div>"
      ],
      "text/plain": [
       "     Motifs  Occurences\n",
       "0     lotus         125\n",
       "1      lion          11\n",
       "2  éléphant           8\n",
       "3    oiseau           7\n",
       "4    cheval           5\n",
       "5   taureau           2"
      ]
     },
     "execution_count": 9,
     "metadata": {},
     "output_type": "execute_result"
    }
   ],
   "source": [
    "motifs = pd.DataFrame(corpus.Motifs.str.replace(\" \", \"\").str.split(\";\").explode().value_counts())\n",
    "motifs = motifs.reset_index()\n",
    "motifs = motifs.rename(columns={'count' : 'Occurences'})\n",
    "motifs"
   ]
  },
  {
   "cell_type": "code",
   "execution_count": 10,
   "id": "60aa0d8d",
   "metadata": {},
   "outputs": [
    {
     "data": {
      "text/plain": [
       "Text(0.5, 1.0, 'Répartition des motifs au sein du corpus')"
      ]
     },
     "execution_count": 10,
     "metadata": {},
     "output_type": "execute_result"
    },
    {
     "data": {
      "image/png": "[encoded data removed]",
      "text/plain": [
       "<Figure size 640x480 with 1 Axes>"
      ]
     },
     "metadata": {},
     "output_type": "display_data"
    }
   ],
   "source": [
    "sns.barplot(y=motifs['Occurences'], x=motifs['Motifs'], palette=\"crest\")\n",
    "plt.xticks(rotation=40)\n",
    "plt.title(\"Répartition des motifs au sein du corpus\", fontweight=\"bold\")"
   ]
  },
  {
   "cell_type": "markdown",
   "id": "1b7c29bf",
   "metadata": {},
   "source": [
    "### Par site"
   ]
  },
  {
   "cell_type": "code",
   "execution_count": 11,
   "id": "10b2a2f6",
   "metadata": {},
   "outputs": [
    {
     "data": {
      "text/plain": [
       "['Amarāvatī', 'Bodhgayā']"
      ]
     },
     "execution_count": 11,
     "metadata": {},
     "output_type": "execute_result"
    }
   ],
   "source": [
    "#Récupération des noms des sites\n",
    "noms_sites = list(corpus.Site.unique())\n",
    "noms_sites"
   ]
  },
  {
   "cell_type": "code",
   "execution_count": 22,
   "id": "ac0c1ce1",
   "metadata": {},
   "outputs": [
    {
     "data": {
      "text/html": [
       "<div>\n",
       "<style scoped>\n",
       "    .dataframe tbody tr th:only-of-type {\n",
       "        vertical-align: middle;\n",
       "    }\n",
       "\n",
       "    .dataframe tbody tr th {\n",
       "        vertical-align: top;\n",
       "    }\n",
       "\n",
       "    .dataframe thead th {\n",
       "        text-align: right;\n",
       "    }\n",
       "</style>\n",
       "<table border=\"1\" class=\"dataframe\">\n",
       "  <thead>\n",
       "    <tr style=\"text-align: right;\">\n",
       "      <th></th>\n",
       "      <th>Motifs</th>\n",
       "      <th>Amarāvatī</th>\n",
       "      <th>Bodhgayā</th>\n",
       "    </tr>\n",
       "  </thead>\n",
       "  <tbody>\n",
       "    <tr>\n",
       "      <th>0</th>\n",
       "      <td>lotus</td>\n",
       "      <td>67</td>\n",
       "      <td>58</td>\n",
       "    </tr>\n",
       "    <tr>\n",
       "      <th>1</th>\n",
       "      <td>lion</td>\n",
       "      <td>10</td>\n",
       "      <td>1</td>\n",
       "    </tr>\n",
       "    <tr>\n",
       "      <th>2</th>\n",
       "      <td>éléphant</td>\n",
       "      <td>6</td>\n",
       "      <td>2</td>\n",
       "    </tr>\n",
       "    <tr>\n",
       "      <th>3</th>\n",
       "      <td>oiseau</td>\n",
       "      <td>6</td>\n",
       "      <td>1</td>\n",
       "    </tr>\n",
       "    <tr>\n",
       "      <th>4</th>\n",
       "      <td>cheval</td>\n",
       "      <td>2</td>\n",
       "      <td>3</td>\n",
       "    </tr>\n",
       "    <tr>\n",
       "      <th>5</th>\n",
       "      <td>taureau</td>\n",
       "      <td>1</td>\n",
       "      <td>1</td>\n",
       "    </tr>\n",
       "  </tbody>\n",
       "</table>\n",
       "</div>"
      ],
      "text/plain": [
       "     Motifs  Amarāvatī  Bodhgayā\n",
       "0     lotus         67         58\n",
       "1      lion         10          1\n",
       "2  éléphant          6          2\n",
       "3    oiseau          6          1\n",
       "4    cheval          2          3\n",
       "5   taureau          1          1"
      ]
     },
     "execution_count": 22,
     "metadata": {},
     "output_type": "execute_result"
    }
   ],
   "source": [
    "#Création d'un dataframe avec le nombre de motifs par site\n",
    "\n",
    "motifs_sites = pd.DataFrame()\n",
    "\n",
    "for site in noms_sites:\n",
    "    motifs_sites[site] = corpus.loc[corpus[\"Site\"] == site].Motifs.str.replace(\" \", \"\").str.split(\";\").explode().value_counts()\n",
    "\n",
    "motifs_sites.reset_index(inplace=True)\n",
    "motifs_sites"
   ]
  },
  {
   "cell_type": "code",
   "execution_count": 23,
   "id": "c3dcdd5f",
   "metadata": {},
   "outputs": [],
   "source": [
    "#Réarrangement du dataframe\n",
    "motifs_sites = motifs_sites.melt(id_vars=\"Motifs\")"
   ]
  },
  {
   "cell_type": "code",
   "execution_count": 24,
   "id": "b16b52d3",
   "metadata": {},
   "outputs": [
    {
     "data": {
      "image/png": "[encoded data removed]",
      "text/plain": [
       "<Figure size 640x480 with 1 Axes>"
      ]
     },
     "metadata": {},
     "output_type": "display_data"
    }
   ],
   "source": [
    "sns.barplot(data=motifs_sites, x='Motifs', y='value', hue='variable', errorbar=None, palette=\"rocket\")\n",
    "plt.xticks(rotation=40)\n",
    "plt.ylabel(\"Occurences\")\n",
    "plt.title(\"Répartition des motifs par site\", fontweight=\"bold\")\n",
    "plt.show()"
   ]
  },
  {
   "cell_type": "code",
   "execution_count": null,
   "id": "66acdaea",
   "metadata": {},
   "outputs": [],
   "source": []
  }
 ],
 "metadata": {
  "kernelspec": {
   "display_name": "Python 3 (ipykernel)",
   "language": "python",
   "name": "python3"
  },
  "language_info": {
   "codemirror_mode": {
    "name": "ipython",
    "version": 3
   },
   "file_extension": ".py",
   "mimetype": "text/x-python",
   "name": "python",
   "nbconvert_exporter": "python",
   "pygments_lexer": "ipython3",
   "version": "3.11.5"
  }
 },
 "nbformat": 4,
 "nbformat_minor": 5
}
